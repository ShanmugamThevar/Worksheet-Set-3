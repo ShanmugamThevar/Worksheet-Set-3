{
 "cells": [
  {
   "cell_type": "markdown",
   "metadata": {},
   "source": [
    "# SQL"
   ]
  },
  {
   "cell_type": "raw",
   "metadata": {},
   "source": [
    "1. Write SQL query to create table Customers.\n",
    "\n",
    "Ans. CREATE TABLE Customers (\n",
    "        CustomerNumber int,\n",
    "        CustomerName varchar(50),\n",
    "        ContactLastName varchar(50),\n",
    "        ContactFirstName varchar(50),\n",
    "        Phone int,\n",
    "        AddressLine1 varchar(50),\n",
    "        AddressLine2 varchar(50),\n",
    "        City varchar(25),\n",
    "        State varchar(25),\n",
    "        PostalCode int,\n",
    "        Country varchar(20),\n",
    "        SalesRepEmployeeNumber int,\n",
    "        CreditLimit int\n",
    "    );"
   ]
  },
  {
   "cell_type": "raw",
   "metadata": {},
   "source": [
    "2. Write SQL query to create table Orders.\n",
    "\n",
    "Ans. CREATE TABLE Orders (\n",
    "        OrderNumber int,\n",
    "        OrderDate date(YYYY-MM-DD),\n",
    "        RequiredDate date(YYYY-MM-DD),\n",
    "        ShippedDate date(YYYY-MM-DD),\n",
    "        Status varchar(50),\n",
    "        Comments varchar(100),\n",
    "        CustomerNumber int,\n",
    "    );"
   ]
  },
  {
   "cell_type": "markdown",
   "metadata": {},
   "source": [
    "3. Write SQL query to show all the columns data from the Orders Table.\n",
    "\n",
    "Ans. describe Orders;"
   ]
  },
  {
   "cell_type": "markdown",
   "metadata": {},
   "source": [
    "4. Write SQL query to show all the comments from the OrdersTable.\n",
    "\n",
    "Ans. select comments from Orders;"
   ]
  },
  {
   "cell_type": "markdown",
   "metadata": {},
   "source": [
    "5. Write a SQL query to show orderDate and Total number of orders placed on that date, from Orderstable.\n",
    "\n",
    "Ans. select * from Orders where OrderDate= date;"
   ]
  },
  {
   "cell_type": "markdown",
   "metadata": {},
   "source": [
    "6. Write a SQL query to show employeNumber, lastName, firstName of all the employees from employees\n",
    "table.\n",
    "\n",
    "Ans. select employeNumber,lastName,firstName from employees;"
   ]
  },
  {
   "cell_type": "markdown",
   "metadata": {},
   "source": [
    "7. Write a SQL query to show all orderNumber, customerName of the person who placed the respective order.\n",
    "\n",
    "Ans. select OrderNumber,CustomerName from Orders;"
   ]
  },
  {
   "cell_type": "raw",
   "metadata": {},
   "source": [
    "8. Write a SQL query to show name of all the customers in one column and salerepemployee name inanother\n",
    "column.\n",
    "\n",
    "Ans. select CustomerName from Orders\n",
    "     INTERSECT\n",
    "     select firstName,lastName from employees;"
   ]
  },
  {
   "cell_type": "markdown",
   "metadata": {},
   "source": [
    "9. Write a SQL query to show Date in one column and total payment amount of the payments made on that date \n",
    "from the payments table.\n",
    "\n",
    "Ans. select * from payments order by paymentDate asc and amount;"
   ]
  },
  {
   "cell_type": "markdown",
   "metadata": {},
   "source": [
    "10. Write a SQL query to show all the products productName, MSRP, productDescription from the products\n",
    "table.\n",
    "\n",
    "Ans. select productName, MSRP, productDescription from products;"
   ]
  },
  {
   "cell_type": "markdown",
   "metadata": {},
   "source": [
    "11. Write a SQL query to print the productName, productDescription of the most ordered product.\n",
    "\n",
    "Ans. "
   ]
  },
  {
   "cell_type": "markdown",
   "metadata": {},
   "source": [
    "12. Write a SQL query to print the city name where maximum number of orders were placed.\n",
    "\n",
    "Ans."
   ]
  },
  {
   "cell_type": "markdown",
   "metadata": {},
   "source": [
    "13. Write a SQL query to get the name of the state having maximum number of customers.\n",
    "\n",
    "Ans."
   ]
  },
  {
   "cell_type": "markdown",
   "metadata": {},
   "source": [
    "14. Write a SQL query to print the employee number in one column and Full name of the employee in the \n",
    "second column for all the employees.\n",
    "\n",
    "Ans."
   ]
  },
  {
   "cell_type": "markdown",
   "metadata": {},
   "source": [
    "15. Write a SQL query to print the orderNumber, customer Name and total amount paid by the customer for that \n",
    "order (quantityOrdered × priceEach).\n",
    "\n",
    "Ans."
   ]
  },
  {
   "cell_type": "code",
   "execution_count": null,
   "metadata": {},
   "outputs": [],
   "source": []
  },
  {
   "cell_type": "code",
   "execution_count": null,
   "metadata": {},
   "outputs": [],
   "source": []
  },
  {
   "cell_type": "markdown",
   "metadata": {},
   "source": [
    "# Statistics"
   ]
  },
  {
   "cell_type": "markdown",
   "metadata": {},
   "source": [
    "1. Which of the following is the correct formula for total variation?\n",
    "\n",
    "Ans. b) Total Variation = Residual Variation + Regression Variation"
   ]
  },
  {
   "cell_type": "markdown",
   "metadata": {},
   "source": [
    "2. Collection of exchangeable binary outcomes for the same covariate data are called outcomes.\n",
    "\n",
    "Ans. c) binomial"
   ]
  },
  {
   "cell_type": "markdown",
   "metadata": {},
   "source": [
    "3. How many outcomes are possible with Bernoulli trial?\n",
    "\n",
    "Ans. a) 2"
   ]
  },
  {
   "cell_type": "markdown",
   "metadata": {},
   "source": [
    "4. If Ho is true and we reject it is called\n",
    "\n",
    "Ans. a) Type-I error"
   ]
  },
  {
   "cell_type": "markdown",
   "metadata": {},
   "source": [
    "5. Level of significance is also called:\n",
    "\n",
    "Ans. b) Size of the test"
   ]
  },
  {
   "cell_type": "markdown",
   "metadata": {},
   "source": [
    "6. The chance of rejecting a true hypothesis decreases when sample size is:\n",
    "\n",
    "Ans. b) Increase"
   ]
  },
  {
   "cell_type": "markdown",
   "metadata": {},
   "source": [
    "7. Which of the following testing is concerned with making decisions using data?\n",
    "\n",
    "Ans. b) Hypothesis"
   ]
  },
  {
   "cell_type": "markdown",
   "metadata": {},
   "source": [
    "8. What is the purpose of multiple testing in statistical inference?\n",
    "\n",
    "Ans. d) All of the mentioned"
   ]
  },
  {
   "cell_type": "markdown",
   "metadata": {},
   "source": [
    "9. Normalized data are centred at and have units equal to standard deviations of the original data\n",
    "\n",
    "Ans. a) 0"
   ]
  },
  {
   "cell_type": "markdown",
   "metadata": {},
   "source": [
    "10. What Is Bayes' Theorem?\n",
    "\n",
    "Ans. In statistics, the Bayes’ theorem is a mathematical formula used to determine the conditional probability of events. The Bayes’ theorem describes the probability of an event based on prior knowledge of the conditions that might be relevant to the event."
   ]
  },
  {
   "cell_type": "markdown",
   "metadata": {},
   "source": [
    "11. What is z-score?\n",
    "\n",
    "Ans. A Z-score is a numerical measurement that describes a value's relationship to the mean of a group of values. "
   ]
  },
  {
   "cell_type": "markdown",
   "metadata": {},
   "source": [
    "12. What is t-test?\n",
    "\n",
    "Ans. A t-test is a type of inferential statistic used to determine if there is a significant difference between the means of two groups, which may be related in certain features."
   ]
  },
  {
   "cell_type": "markdown",
   "metadata": {},
   "source": [
    "13. What is percentile?\n",
    "\n",
    "Ans. A percentile is a score below which a given percentage of scores in its frequency distribution falls or a score at or below which a given percentage falls. "
   ]
  },
  {
   "cell_type": "markdown",
   "metadata": {},
   "source": [
    "14. What is ANOVA?\n",
    "\n",
    "Ans. An ANOVA test is a way to find out if survey or experiment results are significant. "
   ]
  },
  {
   "cell_type": "markdown",
   "metadata": {},
   "source": [
    "15. How can ANOVA help?\n",
    "\n",
    "Ans. ANOVA helps to figure out if there is a need to reject the null hypothesis or accept the alternate hypothesis."
   ]
  },
  {
   "cell_type": "code",
   "execution_count": null,
   "metadata": {},
   "outputs": [],
   "source": []
  },
  {
   "cell_type": "code",
   "execution_count": null,
   "metadata": {},
   "outputs": [],
   "source": []
  },
  {
   "cell_type": "markdown",
   "metadata": {},
   "source": [
    "# Machine Learning"
   ]
  },
  {
   "cell_type": "markdown",
   "metadata": {},
   "source": [
    "1. Which of the following is an application of clustering?\n",
    "\n",
    "Ans. d. All of the above"
   ]
  },
  {
   "cell_type": "markdown",
   "metadata": {},
   "source": [
    "2. On which data type, we cannot perform cluster analysis?\n",
    "\n",
    "Ans. d. None"
   ]
  },
  {
   "cell_type": "markdown",
   "metadata": {},
   "source": [
    "3. Netflix’s movie recommendation system uses\n",
    "\n",
    "Ans. c. Reinforcement learning and Unsupervised learning\n"
   ]
  },
  {
   "cell_type": "markdown",
   "metadata": {},
   "source": [
    "4. The final output of Hierarchical clustering is\n",
    "\n",
    "Ans. b. The tree representing how close the data points are to each other"
   ]
  },
  {
   "cell_type": "markdown",
   "metadata": {},
   "source": [
    "5. Which of the step is not required for K-means clustering?\n",
    "\n",
    "Ans. d. None"
   ]
  },
  {
   "cell_type": "markdown",
   "metadata": {},
   "source": [
    "6. Which is the following is wrong?\n",
    "\n",
    "Ans. c. k-nearest neighbour is same as k-means"
   ]
  },
  {
   "cell_type": "markdown",
   "metadata": {},
   "source": [
    "7. Which of the following metrics, do we have for finding dissimilarity between two clusters in \n",
    "hierarchical clustering?\n",
    "i. Single-link\n",
    "ii. Complete-link\n",
    "iii. Average-link \n",
    "\n",
    "Ans. d. 1, 2 and 3"
   ]
  },
  {
   "cell_type": "markdown",
   "metadata": {},
   "source": [
    "8. Which of the following are true?\n",
    "i. Clustering analysis is negatively affected by multicollinearity of features\n",
    "ii. Clustering analysis is negatively affected by heteroscedasticity\n",
    "\n",
    "Ans. a. 1 only"
   ]
  },
  {
   "cell_type": "markdown",
   "metadata": {},
   "source": [
    "9. In the figure above, if you draw a horizontal line on y-axis for y=2. What will be the number of clusters \n",
    "formed?\n",
    "\n",
    "Ans. a. 2"
   ]
  },
  {
   "cell_type": "markdown",
   "metadata": {},
   "source": [
    "10. For which of the following tasks might clustering be a suitable approach?\n",
    "\n",
    "Ans. b.Given a database of information about your users, automatically group them into different market \n",
    "segments."
   ]
  },
  {
   "cell_type": "markdown",
   "metadata": {},
   "source": [
    "11. Given, six points with the following attributes:\n",
    "    \n",
    "Ans. a"
   ]
  },
  {
   "cell_type": "markdown",
   "metadata": {},
   "source": [
    "12. Given, six points with the following attributes:\n",
    "    \n",
    "Ans. b"
   ]
  },
  {
   "cell_type": "markdown",
   "metadata": {},
   "source": [
    "13. What is the importance of clustering?\n",
    "\n",
    "Ans. Clustering is important in data analysis and data mining applications. It is the task of grouping a set of objects so that objects in the same group are more similar to each other than to those in other groups."
   ]
  },
  {
   "cell_type": "code",
   "execution_count": null,
   "metadata": {},
   "outputs": [],
   "source": [
    "14. How can I improve my clustering performance?\n",
    "\n",
    "Ans. "
   ]
  }
 ],
 "metadata": {
  "kernelspec": {
   "display_name": "Python 3",
   "language": "python",
   "name": "python3"
  },
  "language_info": {
   "codemirror_mode": {
    "name": "ipython",
    "version": 3
   },
   "file_extension": ".py",
   "mimetype": "text/x-python",
   "name": "python",
   "nbconvert_exporter": "python",
   "pygments_lexer": "ipython3",
   "version": "3.8.5"
  }
 },
 "nbformat": 4,
 "nbformat_minor": 4
}
